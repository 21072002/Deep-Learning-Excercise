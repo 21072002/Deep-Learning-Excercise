{
 "cells": [
  {
   "cell_type": "code",
   "execution_count": 1,
   "id": "5a1cb87c",
   "metadata": {},
   "outputs": [],
   "source": [
    "import numpy as np"
   ]
  },
  {
   "cell_type": "code",
   "execution_count": 2,
   "id": "9d5b001c",
   "metadata": {},
   "outputs": [],
   "source": [
    "y_predicted = np.array([1,1,0,0,1])\n",
    "y_true = np.array([0.30,0.7,1,0,0.5])"
   ]
  },
  {
   "cell_type": "code",
   "execution_count": 6,
   "id": "5a4c0a38",
   "metadata": {},
   "outputs": [],
   "source": [
    "#Mean Absolute error in python\n",
    "def mae(y_predicted, y_true):\n",
    "    total_error = 0\n",
    "    for yp, yt in zip(y_predicted, y_true): #zip function is used to iterate two arrays in python. \n",
    "        total_error += abs(yp-yt) #abs is use to take the absolute values for the given values.\n",
    "    print(\"total error : \", total_error)\n",
    "    mae = total_error/len(y_predicted)\n",
    "    print(\"Mean absolute error is: \", mae)\n",
    "    return mae"
   ]
  },
  {
   "cell_type": "code",
   "execution_count": 7,
   "id": "fbc9a4c7",
   "metadata": {},
   "outputs": [
    {
     "name": "stdout",
     "output_type": "stream",
     "text": [
      "total error :  2.5\n",
      "Mean absolute error is:  0.5\n"
     ]
    },
    {
     "data": {
      "text/plain": [
       "0.5"
      ]
     },
     "execution_count": 7,
     "metadata": {},
     "output_type": "execute_result"
    }
   ],
   "source": [
    "mae(y_predicted, y_true)"
   ]
  },
  {
   "cell_type": "code",
   "execution_count": 8,
   "id": "d5129a7f",
   "metadata": {},
   "outputs": [],
   "source": [
    "#Mean square error using python \n",
    "def mse(y_predicted, y_true):\n",
    "    n = len(y_predicted)\n",
    "    squared_errors = [(yp - yt) ** 2 for yp, yt in zip(y_predicted, y_true)]\n",
    "    mse = sum(squared_errors) / n\n",
    "    return mse\n"
   ]
  },
  {
   "cell_type": "code",
   "execution_count": 11,
   "id": "0dd15ec4",
   "metadata": {},
   "outputs": [
    {
     "data": {
      "text/plain": [
       "0.366"
      ]
     },
     "execution_count": 11,
     "metadata": {},
     "output_type": "execute_result"
    }
   ],
   "source": [
    "mse_value = mse(y_predicted, y_true)\n",
    "mse_value"
   ]
  },
  {
   "cell_type": "code",
   "execution_count": 12,
   "id": "e10e57ec",
   "metadata": {},
   "outputs": [],
   "source": [
    "#Mean square error using numpy \n",
    "import numpy as np\n",
    "\n",
    "def mse(y_predicted, y_true):\n",
    "    mse = np.mean((y_predicted - y_true) ** 2)\n",
    "    return mse\n"
   ]
  },
  {
   "cell_type": "code",
   "execution_count": 14,
   "id": "b84a4fbb",
   "metadata": {},
   "outputs": [
    {
     "data": {
      "text/plain": [
       "0.366"
      ]
     },
     "execution_count": 14,
     "metadata": {},
     "output_type": "execute_result"
    }
   ],
   "source": [
    "mse_value_using_NP = mse(y_predicted, y_true)\n",
    "mse_value_using_NP"
   ]
  },
  {
   "cell_type": "code",
   "execution_count": null,
   "id": "c855edf1",
   "metadata": {},
   "outputs": [],
   "source": []
  }
 ],
 "metadata": {
  "kernelspec": {
   "display_name": "Python 3 (ipykernel)",
   "language": "python",
   "name": "python3"
  },
  "language_info": {
   "codemirror_mode": {
    "name": "ipython",
    "version": 3
   },
   "file_extension": ".py",
   "mimetype": "text/x-python",
   "name": "python",
   "nbconvert_exporter": "python",
   "pygments_lexer": "ipython3",
   "version": "3.9.16"
  },
  "varInspector": {
   "cols": {
    "lenName": 16,
    "lenType": 16,
    "lenVar": 40
   },
   "kernels_config": {
    "python": {
     "delete_cmd_postfix": "",
     "delete_cmd_prefix": "del ",
     "library": "var_list.py",
     "varRefreshCmd": "print(var_dic_list())"
    },
    "r": {
     "delete_cmd_postfix": ") ",
     "delete_cmd_prefix": "rm(",
     "library": "var_list.r",
     "varRefreshCmd": "cat(var_dic_list()) "
    }
   },
   "types_to_exclude": [
    "module",
    "function",
    "builtin_function_or_method",
    "instance",
    "_Feature"
   ],
   "window_display": false
  }
 },
 "nbformat": 4,
 "nbformat_minor": 5
}
